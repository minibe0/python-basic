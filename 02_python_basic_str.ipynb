{
  "nbformat": 4,
  "nbformat_minor": 0,
  "metadata": {
    "colab": {
      "name": "02-python-basic-str.ipynb",
      "provenance": [],
      "collapsed_sections": [],
      "authorship_tag": "ABX9TyOo2zyISSMIpztunTnEM18V",
      "include_colab_link": true
    },
    "kernelspec": {
      "name": "python3",
      "display_name": "Python 3"
    }
  },
  "cells": [
    {
      "cell_type": "markdown",
      "metadata": {
        "id": "view-in-github",
        "colab_type": "text"
      },
      "source": [
        "<a href=\"https://colab.research.google.com/github/minibe0/python-basic/blob/master/02_python_basic_str.ipynb\" target=\"_parent\"><img src=\"https://colab.research.google.com/assets/colab-badge.svg\" alt=\"Open In Colab\"/></a>"
      ]
    },
    {
      "cell_type": "code",
      "metadata": {
        "id": "24VZz1jP2ieo",
        "colab_type": "code",
        "colab": {
          "base_uri": "https://localhost:8080/",
          "height": 153
        },
        "outputId": "409891ef-a131-4c87-8de3-ab87f8787b69"
      },
      "source": [
        "txt='abc'\n",
        "print(txt[0])\n",
        "print(txt[1])\n",
        "print(txt[2])\n",
        "print()\n",
        "print(txt[-3])\n",
        "print(txt[-2])\n",
        "print(txt[-1])\n",
        "print()\n",
        "#print(txt[1.0]) 실수는 사용할 수 없다"
      ],
      "execution_count": null,
      "outputs": [
        {
          "output_type": "stream",
          "text": [
            "a\n",
            "b\n",
            "c\n",
            "\n",
            "a\n",
            "b\n",
            "c\n",
            "\n"
          ],
          "name": "stdout"
        }
      ]
    },
    {
      "cell_type": "code",
      "metadata": {
        "id": "wnl99Ju826Ff",
        "colab_type": "code",
        "colab": {
          "base_uri": "https://localhost:8080/",
          "height": 221
        },
        "outputId": "d7ede56c-6614-45f7-c4e4-6140fe69dab3"
      },
      "source": [
        "#문자열 슬라이스\n",
        "txt='abcde fgh ijk'\n",
        "# print(len(txt))\n",
        "\n",
        "print(txt[2:5])\n",
        "print(txt[1:8])\n",
        "print(txt[-5:-1])\n",
        "\n",
        "print(txt[5:])\n",
        "print(txt[:5])\n",
        "print(txt[:])\n",
        "print()\n",
        "\n",
        "# 간격을 두고 문자츨 추출하는 방법\n",
        "print(txt[0:8:2])\n",
        "print(txt[1:8:2])\n",
        "\n",
        "#왼쪽으로 간다.\n",
        "print(txt[1:8:-1]) #뒤에서 부터 출력해야 하므로 범위를 벗어난 인덱스를 포함해서 출력되지 않는다\n",
        "print(txt[8:0:-1])\n",
        "\n",
        "#문자열 뒤집기\n",
        "print(txt[::-1])\n"
      ],
      "execution_count": null,
      "outputs": [
        {
          "output_type": "stream",
          "text": [
            "cde\n",
            "bcde fg\n",
            "h ij\n",
            " fgh ijk\n",
            "abcde\n",
            "abcde fgh ijk\n",
            "\n",
            "acef\n",
            "bd g\n",
            "\n",
            "hgf edcb\n",
            "kji hgf edcba\n"
          ],
          "name": "stdout"
        }
      ]
    },
    {
      "cell_type": "code",
      "metadata": {
        "id": "la0xPrYg3fyd",
        "colab_type": "code",
        "colab": {
          "base_uri": "https://localhost:8080/",
          "height": 34
        },
        "outputId": "ee4510d3-d949-48f7-ec97-a7c9f1f763aa"
      },
      "source": [
        "#문자열 메소드 format()\n",
        "txt='또또는 {}{}{}'\n",
        "print(txt.format('아주 많이', ' 이쁘다 ', 100))"
      ],
      "execution_count": null,
      "outputs": [
        {
          "output_type": "stream",
          "text": [
            "또또는 아주 많이 이쁘다 100\n"
          ],
          "name": "stdout"
        }
      ]
    },
    {
      "cell_type": "code",
      "metadata": {
        "id": "SpLY5LTq6sMU",
        "colab_type": "code",
        "colab": {
          "base_uri": "https://localhost:8080/",
          "height": 34
        },
        "outputId": "f140586a-ab19-4db1-82e4-df77abaf40fa"
      },
      "source": [
        "#replace()\n",
        "txt='또또는 아주 조금 못생기지 않았다.'\n",
        "print(txt.replace('조금', '많이'))"
      ],
      "execution_count": null,
      "outputs": [
        {
          "output_type": "stream",
          "text": [
            "또또는 아주 많이 못생기지 않았다.\n"
          ],
          "name": "stdout"
        }
      ]
    },
    {
      "cell_type": "code",
      "metadata": {
        "id": "8sPf9M797WTb",
        "colab_type": "code",
        "colab": {
          "base_uri": "https://localhost:8080/",
          "height": 102
        },
        "outputId": "bf3ae514-46a5-47f4-b9ef-0fc9eb64bbda"
      },
      "source": [
        "#split()\n",
        "txt='또또는 아주 조금 못생기지 않았다.'\n",
        "a,b,c,d,e=txt.split()\n",
        "print(a)\n",
        "print(b)\n",
        "print(c)\n",
        "print(d)\n",
        "print(e)"
      ],
      "execution_count": null,
      "outputs": [
        {
          "output_type": "stream",
          "text": [
            "또또는\n",
            "아주\n",
            "조금\n",
            "못생기지\n",
            "않았다.\n"
          ],
          "name": "stdout"
        }
      ]
    },
    {
      "cell_type": "code",
      "metadata": {
        "id": "gogY0nOR8_bd",
        "colab_type": "code",
        "colab": {
          "base_uri": "https://localhost:8080/",
          "height": 34
        },
        "outputId": "17e9c8fb-9eda-4b36-f69e-a0b1e2181bc0"
      },
      "source": [
        "#join()\n",
        "txt='abcdef'\n",
        "print('/'.join(txt))"
      ],
      "execution_count": null,
      "outputs": [
        {
          "output_type": "stream",
          "text": [
            "a/b/c/d/e/f\n"
          ],
          "name": "stdout"
        }
      ]
    },
    {
      "cell_type": "code",
      "metadata": {
        "id": "T_LdkY359ptq",
        "colab_type": "code",
        "colab": {
          "base_uri": "https://localhost:8080/",
          "height": 85
        },
        "outputId": "5ba01a31-801d-4824-83ef-9d422167d424"
      },
      "source": [
        "#개수 확인 count()\n",
        "txt='abceef ABC AAAE'\n",
        "print(txt.count('a'))\n",
        "print(txt.count('e'))\n",
        "print(txt.count('A'))\n",
        "print(txt.count('B'))"
      ],
      "execution_count": null,
      "outputs": [
        {
          "output_type": "stream",
          "text": [
            "1\n",
            "2\n",
            "4\n",
            "1\n"
          ],
          "name": "stdout"
        }
      ]
    },
    {
      "cell_type": "code",
      "metadata": {
        "id": "MRg0sGC_9_bX",
        "colab_type": "code",
        "colab": {
          "base_uri": "https://localhost:8080/",
          "height": 136
        },
        "outputId": "5b96c31d-6968-4217-ce6d-4ddb7b31dff8"
      },
      "source": [
        "#제거하기 strip() 양쪽 / lstrip() 왼쪽 공백제거 / rstrip() 오른쪽 제거\n",
        "txt = '    abced     '\n",
        "print(txt.strip())\n",
        "print(txt.lstrip())\n",
        "print(txt.rstrip())\n",
        "print()\n",
        "\n",
        "txt2='*****abc**ed*****'\n",
        "print(txt2.strip('*'))\n",
        "print(txt2.lstrip('*'))\n",
        "print(txt2.rstrip('*'))\n"
      ],
      "execution_count": null,
      "outputs": [
        {
          "output_type": "stream",
          "text": [
            "abced\n",
            "abced     \n",
            "    abced\n",
            "\n",
            "abc**ed\n",
            "abc**ed*****\n",
            "*****abc**ed\n"
          ],
          "name": "stdout"
        }
      ]
    },
    {
      "cell_type": "code",
      "metadata": {
        "id": "MWoplV7Y-oiE",
        "colab_type": "code",
        "colab": {
          "base_uri": "https://localhost:8080/",
          "height": 317
        },
        "outputId": "0fb49fb3-d72d-4dc2-dcb7-018df8021f87"
      },
      "source": [
        "#인덱스 찾기 find() rfind() index() rindex()\n",
        "text='ABC ABC'\n",
        "\n",
        "# 좌->우\n",
        "print(text.find('A'))\n",
        "print(text.index('A'))\n",
        "# 우->좌\n",
        "print(text.rfind('A'))\n",
        "print(text.rindex('A'))\n",
        "\n",
        "#대상이 없을 경우\n",
        "# -1을 반환\n",
        "print(text.find('a'))\n",
        "print(text.rfind('a'))\n",
        "\n",
        "# 에러를 발생 시킴\n",
        "print(text.index('a'))\n",
        "print(text.rindex('a'))"
      ],
      "execution_count": null,
      "outputs": [
        {
          "output_type": "stream",
          "text": [
            "0\n",
            "0\n",
            "4\n",
            "4\n",
            "-1\n",
            "-1\n"
          ],
          "name": "stdout"
        },
        {
          "output_type": "error",
          "ename": "ValueError",
          "evalue": "ignored",
          "traceback": [
            "\u001b[0;31m---------------------------------------------------------------------------\u001b[0m",
            "\u001b[0;31mValueError\u001b[0m                                Traceback (most recent call last)",
            "\u001b[0;32m<ipython-input-39-498b58a92e17>\u001b[0m in \u001b[0;36m<module>\u001b[0;34m()\u001b[0m\n\u001b[1;32m     15\u001b[0m \u001b[0;34m\u001b[0m\u001b[0m\n\u001b[1;32m     16\u001b[0m \u001b[0;31m# 에러를 발생 시킴\u001b[0m\u001b[0;34m\u001b[0m\u001b[0;34m\u001b[0m\u001b[0;34m\u001b[0m\u001b[0m\n\u001b[0;32m---> 17\u001b[0;31m \u001b[0mprint\u001b[0m\u001b[0;34m(\u001b[0m\u001b[0mtext\u001b[0m\u001b[0;34m.\u001b[0m\u001b[0mindex\u001b[0m\u001b[0;34m(\u001b[0m\u001b[0;34m'a'\u001b[0m\u001b[0;34m)\u001b[0m\u001b[0;34m)\u001b[0m\u001b[0;34m\u001b[0m\u001b[0;34m\u001b[0m\u001b[0m\n\u001b[0m\u001b[1;32m     18\u001b[0m \u001b[0mprint\u001b[0m\u001b[0;34m(\u001b[0m\u001b[0mtext\u001b[0m\u001b[0;34m.\u001b[0m\u001b[0mrindex\u001b[0m\u001b[0;34m(\u001b[0m\u001b[0;34m'a'\u001b[0m\u001b[0;34m)\u001b[0m\u001b[0;34m)\u001b[0m\u001b[0;34m\u001b[0m\u001b[0;34m\u001b[0m\u001b[0m\n",
            "\u001b[0;31mValueError\u001b[0m: substring not found"
          ]
        }
      ]
    },
    {
      "cell_type": "code",
      "metadata": {
        "id": "S45eUyLGAiNs",
        "colab_type": "code",
        "colab": {
          "base_uri": "https://localhost:8080/",
          "height": 221
        },
        "outputId": "96d9fefb-4a9d-45ce-9228-1b4facca832c"
      },
      "source": [
        "#확인하기\n",
        "# isalpha() isdigit() isalnum() isupper() islower()\n",
        "txt1 = 'ABCabc123'\n",
        "txt2 = '123' \n",
        "txt3 = 'ABC'\n",
        "txt4 = 'abc'\n",
        "\n",
        "print(txt3.isalpha())\n",
        "print(txt3.isdigit())\n",
        "print(txt3.isalnum())\n",
        "print(txt3.isupper())\n",
        "print(txt3.islower())\n",
        "print()\n",
        "print(txt1.isalpha())\n",
        "print(txt1.isdigit())\n",
        "print(txt1.isalnum())\n",
        "print(txt1.isupper())\n",
        "print(txt1.islower())\n",
        "print()\n",
        "\n"
      ],
      "execution_count": null,
      "outputs": [
        {
          "output_type": "stream",
          "text": [
            "True\n",
            "False\n",
            "True\n",
            "True\n",
            "False\n",
            "\n",
            "False\n",
            "False\n",
            "True\n",
            "False\n",
            "False\n",
            "\n"
          ],
          "name": "stdout"
        }
      ]
    },
    {
      "cell_type": "code",
      "metadata": {
        "id": "0kw7AMm5kOoF",
        "colab_type": "code",
        "colab": {
          "base_uri": "https://localhost:8080/",
          "height": 85
        },
        "outputId": "759c47d3-f10e-4516-eb56-a0e229a4d170"
      },
      "source": [
        "# 대/소문자 만들기 upper()  lower()\n",
        "txt='ABCabc'\n",
        "\n",
        "print(txt.upper())\n",
        "print(txt[3])\n",
        "print(txt[3])\n",
        "print(txt.lower())"
      ],
      "execution_count": null,
      "outputs": [
        {
          "output_type": "stream",
          "text": [
            "ABCABC\n",
            "a\n",
            "a\n",
            "abcabc\n"
          ],
          "name": "stdout"
        }
      ]
    },
    {
      "cell_type": "code",
      "metadata": {
        "id": "3YsQbVlYkadK",
        "colab_type": "code",
        "colab": {}
      },
      "source": [
        ""
      ],
      "execution_count": null,
      "outputs": []
    }
  ]
}