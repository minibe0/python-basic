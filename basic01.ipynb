# python 문법 연습 from 파이썬기초강의 by SONOL(유트브강의)

# num = int(input('숫자를 입력하세요'))

# print(num+num)
# print(type(num))

# i = 5.0
# range(int(num))

# a = input('숫자 입력')
# b = int(a)
# c = float(a)

# print(type(a))
# print(type(b))
# print(type(c))

# a, b, c = map(int, input('a b c값 입력').split())
# text = input('a b c 입력')
# text = text.split()
# print(type(text))

# a, b, c = map(int, text)
# print(a, b, c, a+b+c)
s
# print(a, b, c, a+b+c)

# d, e, f = map(int, ['1', '2', '3'])
# print(d, e, f, d+e+f)

