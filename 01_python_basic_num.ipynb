{
  "nbformat": 4,
  "nbformat_minor": 0,
  "metadata": {
    "colab": {
      "name": "01-python-basic-num.ipynb",
      "provenance": [],
      "collapsed_sections": [],
      "authorship_tag": "ABX9TyOGha1DkLiwGGniPF89DR+A",
      "include_colab_link": true
    },
    "kernelspec": {
      "name": "python3",
      "display_name": "Python 3"
    }
  },
  "cells": [
    {
      "cell_type": "markdown",
      "metadata": {
        "id": "view-in-github",
        "colab_type": "text"
      },
      "source": [
        "<a href=\"https://colab.research.google.com/github/minibe0/python-basic/blob/master/01_python_basic_num.ipynb\" target=\"_parent\"><img src=\"https://colab.research.google.com/assets/colab-badge.svg\" alt=\"Open In Colab\"/></a>"
      ]
    },
    {
      "cell_type": "code",
      "metadata": {
        "id": "S8LjGetFFlmM",
        "colab_type": "code",
        "colab": {
          "base_uri": "https://localhost:8080/",
          "height": 51
        },
        "outputId": "b03c68de-1e57-4a00-c57d-d263b729c290"
      },
      "source": [
        "day=input('yyyy,mm,dd 형식으로 입력하세요  ').split(',')\n",
        "\n",
        "y,m,d =map(int, day)\n",
        "print(y,m,d,y-m-d)"
      ],
      "execution_count": null,
      "outputs": [
        {
          "output_type": "stream",
          "text": [
            "yyyy,mm,dd형식으로 입력하세요  2020,07,05\n",
            "2020 7 5 2008\n"
          ],
          "name": "stdout"
        }
      ]
    },
    {
      "cell_type": "code",
      "metadata": {
        "id": "HwKbhUezHxpg",
        "colab_type": "code",
        "colab": {
          "base_uri": "https://localhost:8080/",
          "height": 68
        },
        "outputId": "7feb6c1b-43d7-4a45-af1b-555e930abda4"
      },
      "source": [
        " #형변환, map 사용\n",
        " a,b,c = map(int, input('a b c 입력').split(' '))\n",
        " print(a,b,c, a+b+c)\n",
        " print(type(a))"
      ],
      "execution_count": null,
      "outputs": [
        {
          "output_type": "stream",
          "text": [
            "a b c 입력1 2 3\n",
            "1 2 3 6\n",
            "<class 'int'>\n"
          ],
          "name": "stdout"
        }
      ]
    },
    {
      "cell_type": "code",
      "metadata": {
        "id": "uOzUvfwyIHJQ",
        "colab_type": "code",
        "colab": {
          "base_uri": "https://localhost:8080/",
          "height": 34
        },
        "outputId": "46f06846-77a0-4fb3-ebdf-2b04d40a55c4"
      },
      "source": [
        "#숫자 출력하기 .format()\n",
        "x=3\n",
        "y=5\n",
        "#출력 내용: 3과 5의 합은 8이다.\n",
        "print (f\"{x}과 {y}의 합은 {x+y}이다\")"
      ],
      "execution_count": null,
      "outputs": [
        {
          "output_type": "stream",
          "text": [
            "3과 5의 합은 8이다\n"
          ],
          "name": "stdout"
        }
      ]
    },
    {
      "cell_type": "code",
      "metadata": {
        "colab_type": "code",
        "id": "1XFuKYbYM5Sp",
        "colab": {
          "base_uri": "https://localhost:8080/",
          "height": 34
        },
        "outputId": "2c1b6ae3-727e-4d2a-b478-f270edcc499b"
      },
      "source": [
        "#숫자 출력하기 .format()\n",
        "x=3\n",
        "y=5\n",
        "#출력 내용: 3과 5의 합은 8이다.\n",
        "print ('{}과 {}의 합은 {}이다'.format(x,y,x+y))"
      ],
      "execution_count": null,
      "outputs": [
        {
          "output_type": "stream",
          "text": [
            "3과 5의 합은 8이다\n"
          ],
          "name": "stdout"
        }
      ]
    },
    {
      "cell_type": "code",
      "metadata": {
        "id": "c_Zl_WXjJnRo",
        "colab_type": "code",
        "colab": {
          "base_uri": "https://localhost:8080/",
          "height": 34
        },
        "outputId": "939b7a52-6b82-409a-e3e0-733925e9d4a5"
      },
      "source": [
        "x=3\n",
        "y=5\n",
        "#출력 내용: 3과 5의 합은 8이다.\n",
        "print (str(x)+\"과\" +str(y)+\"의 합은 \"+str(x+y)+\"이다\")"
      ],
      "execution_count": null,
      "outputs": [
        {
          "output_type": "stream",
          "text": [
            "3과5의 합은 8이다\n"
          ],
          "name": "stdout"
        }
      ]
    },
    {
      "cell_type": "code",
      "metadata": {
        "id": "QAUehiQPKOcD",
        "colab_type": "code",
        "colab": {
          "base_uri": "https://localhost:8080/",
          "height": 34
        },
        "outputId": "19e37033-7062-47ef-d669-93dd1e5d5ad2"
      },
      "source": [
        "x=3\n",
        "y=5\n",
        "#출력 내용: 3과 5의 합은 8이다.\n",
        "print(x, end='')\n",
        "print('과 ', end='')\n",
        "print(y, end='')\n",
        "print('의 합은 ', end='')\n",
        "print(x+y, end='')\n",
        "print('이다.')"
      ],
      "execution_count": null,
      "outputs": [
        {
          "output_type": "stream",
          "text": [
            "3과 5의 합은 8이다\n"
          ],
          "name": "stdout"
        }
      ]
    },
    {
      "cell_type": "code",
      "metadata": {
        "id": "5T05SvyArJiJ",
        "colab_type": "code",
        "colab": {
          "base_uri": "https://localhost:8080/",
          "height": 68
        },
        "outputId": "a92096b1-9c60-42f7-b5cb-a3ee26a37ba1"
      },
      "source": [
        "#반올림\n",
        "print(round(3.33))\n",
        "print(round(3.66))\n",
        "print(round(3.66,1)) #소수 첫째자리까지 처리함"
      ],
      "execution_count": null,
      "outputs": [
        {
          "output_type": "stream",
          "text": [
            "3\n",
            "4\n",
            "3.7\n"
          ],
          "name": "stdout"
        }
      ]
    },
    {
      "cell_type": "code",
      "metadata": {
        "id": "xxNzBNEVraPl",
        "colab_type": "code",
        "colab": {
          "base_uri": "https://localhost:8080/",
          "height": 51
        },
        "outputId": "7edc876e-4435-400e-9939-73ef4a50752a"
      },
      "source": [
        "#절대값\n",
        "print(abs(3))\n",
        "print(abs(-3))"
      ],
      "execution_count": null,
      "outputs": [
        {
          "output_type": "stream",
          "text": [
            "3\n",
            "3\n"
          ],
          "name": "stdout"
        }
      ]
    },
    {
      "cell_type": "code",
      "metadata": {
        "id": "Mnu9LkLSrgHi",
        "colab_type": "code",
        "colab": {
          "base_uri": "https://localhost:8080/",
          "height": 51
        },
        "outputId": "5509f59d-3e13-4c96-8c88-fc778757dfde"
      },
      "source": [
        "#제곱\n",
        "print(pow(3,2))\n",
        "print(3**2)"
      ],
      "execution_count": null,
      "outputs": [
        {
          "output_type": "stream",
          "text": [
            "9\n",
            "9\n"
          ],
          "name": "stdout"
        }
      ]
    },
    {
      "cell_type": "code",
      "metadata": {
        "id": "5CEooaAar9bq",
        "colab_type": "code",
        "colab": {
          "base_uri": "https://localhost:8080/",
          "height": 51
        },
        "outputId": "c682aa70-fc69-4c93-8be9-8c579ea12ac0"
      },
      "source": [
        "#나눗셈\n",
        "x,y = divmod(7,2)\n",
        "print(x) # 몫\n",
        "print(y)  # 나머지"
      ],
      "execution_count": null,
      "outputs": [
        {
          "output_type": "stream",
          "text": [
            "3\n",
            "1\n"
          ],
          "name": "stdout"
        }
      ]
    },
    {
      "cell_type": "code",
      "metadata": {
        "id": "OmdPEXAhsHm8",
        "colab_type": "code",
        "colab": {
          "base_uri": "https://localhost:8080/",
          "height": 51
        },
        "outputId": "7fd73932-6c94-4bfa-b9a5-4b273d38ac62"
      },
      "source": [
        "#최대값\n",
        "print(max(2,4,5,7,19))\n",
        "print(min([2,4,5,7,19])) # [] 사용 가능\n"
      ],
      "execution_count": null,
      "outputs": [
        {
          "output_type": "stream",
          "text": [
            "19\n",
            "2\n"
          ],
          "name": "stdout"
        }
      ]
    },
    {
      "cell_type": "code",
      "metadata": {
        "id": "xBgb7l4vsXga",
        "colab_type": "code",
        "colab": {
          "base_uri": "https://localhost:8080/",
          "height": 34
        },
        "outputId": "cafbc86d-dbcb-411f-d228-ba61a93f6303"
      },
      "source": [
        "# 합\n",
        "print(sum([2,4,5,7,19]))"
      ],
      "execution_count": null,
      "outputs": [
        {
          "output_type": "stream",
          "text": [
            "37\n"
          ],
          "name": "stdout"
        }
      ]
    }
  ]
}