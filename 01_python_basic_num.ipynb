{
  "nbformat": 4,
  "nbformat_minor": 0,
  "metadata": {
    "colab": {
      "name": "01-python-basic-num.ipynb",
      "provenance": [],
      "collapsed_sections": [],
      "authorship_tag": "ABX9TyNu/GfUL8/LKZYZ7f7o2SRl"
    },
    "kernelspec": {
      "name": "python3",
      "display_name": "Python 3"
    }
  },
  "cells": [
    {
      "cell_type": "code",
      "metadata": {
        "id": "S8LjGetFFlmM",
        "colab_type": "code",
        "colab": {
          "base_uri": "https://localhost:8080/",
          "height": 51
        },
        "outputId": "b03c68de-1e57-4a00-c57d-d263b729c290"
      },
      "source": [
        "day=input('yyyy,mm,dd 형식으로 입력하세요  ').split(',')\n",
        "\n",
        "y,m,d =map(int, day)\n",
        "print(y,m,d,y-m-d)"
      ],
      "execution_count": null,
      "outputs": [
        {
          "output_type": "stream",
          "text": [
            "yyyy,mm,dd형식으로 입력하세요  2020,07,05\n",
            "2020 7 5 2008\n"
          ],
          "name": "stdout"
        }
      ]
    },
    {
      "cell_type": "code",
      "metadata": {
        "id": "HwKbhUezHxpg",
        "colab_type": "code",
        "colab": {
          "base_uri": "https://localhost:8080/",
          "height": 68
        },
        "outputId": "7feb6c1b-43d7-4a45-af1b-555e930abda4"
      },
      "source": [
        " #형변환, map 사용\n",
        " a,b,c = map(int, input('a b c 입력').split(' '))\n",
        " print(a,b,c, a+b+c)\n",
        " print(type(a))"
      ],
      "execution_count": null,
      "outputs": [
        {
          "output_type": "stream",
          "text": [
            "a b c 입력1 2 3\n",
            "1 2 3 6\n",
            "<class 'int'>\n"
          ],
          "name": "stdout"
        }
      ]
    },
    {
      "cell_type": "code",
      "metadata": {
        "id": "uOzUvfwyIHJQ",
        "colab_type": "code",
        "colab": {
          "base_uri": "https://localhost:8080/",
          "height": 34
        },
        "outputId": "46f06846-77a0-4fb3-ebdf-2b04d40a55c4"
      },
      "source": [
        "#숫자 출력하기 .format()\n",
        "x=3\n",
        "y=5\n",
        "#출력 내용: 3과 5의 합은 8이다.\n",
        "print (f\"{x}과 {y}의 합은 {x+y}이다\")"
      ],
      "execution_count": null,
      "outputs": [
        {
          "output_type": "stream",
          "text": [
            "3과 5의 합은 8이다\n"
          ],
          "name": "stdout"
        }
      ]
    },
    {
      "cell_type": "code",
      "metadata": {
        "colab_type": "code",
        "id": "1XFuKYbYM5Sp",
        "colab": {
          "base_uri": "https://localhost:8080/",
          "height": 34
        },
        "outputId": "2c1b6ae3-727e-4d2a-b478-f270edcc499b"
      },
      "source": [
        "#숫자 출력하기 .format()\n",
        "x=3\n",
        "y=5\n",
        "#출력 내용: 3과 5의 합은 8이다.\n",
        "print ('{}과 {}의 합은 {}이다'.format(x,y,x+y))"
      ],
      "execution_count": null,
      "outputs": [
        {
          "output_type": "stream",
          "text": [
            "3과 5의 합은 8이다\n"
          ],
          "name": "stdout"
        }
      ]
    },
    {
      "cell_type": "code",
      "metadata": {
        "id": "c_Zl_WXjJnRo",
        "colab_type": "code",
        "colab": {
          "base_uri": "https://localhost:8080/",
          "height": 34
        },
        "outputId": "939b7a52-6b82-409a-e3e0-733925e9d4a5"
      },
      "source": [
        "x=3\n",
        "y=5\n",
        "#출력 내용: 3과 5의 합은 8이다.\n",
        "print (str(x)+\"과\" +str(y)+\"의 합은 \"+str(x+y)+\"이다\")"
      ],
      "execution_count": null,
      "outputs": [
        {
          "output_type": "stream",
          "text": [
            "3과5의 합은 8이다\n"
          ],
          "name": "stdout"
        }
      ]
    },
    {
      "cell_type": "code",
      "metadata": {
        "id": "QAUehiQPKOcD",
        "colab_type": "code",
        "colab": {
          "base_uri": "https://localhost:8080/",
          "height": 34
        },
        "outputId": "19e37033-7062-47ef-d669-93dd1e5d5ad2"
      },
      "source": [
        "x=3\n",
        "y=5\n",
        "#출력 내용: 3과 5의 합은 8이다.\n",
        "print(x, end='')\n",
        "print('과 ', end='')\n",
        "print(y, end='')\n",
        "print('의 합은 ', end='')\n",
        "print(x+y, end='')\n",
        "print('이다.')"
      ],
      "execution_count": null,
      "outputs": [
        {
          "output_type": "stream",
          "text": [
            "3과 5의 합은 8이다\n"
          ],
          "name": "stdout"
        }
      ]
    },
    {
      "cell_type": "code",
      "metadata": {
        "id": "5T05SvyArJiJ",
        "colab_type": "code",
        "colab": {
          "base_uri": "https://localhost:8080/",
          "height": 68
        },
        "outputId": "a92096b1-9c60-42f7-b5cb-a3ee26a37ba1"
      },
      "source": [
        "#반올림\n",
        "print(round(3.33))\n",
        "print(round(3.66))\n",
        "print(round(3.66,1)) #소수 첫째자리까지 처리함"
      ],
      "execution_count": null,
      "outputs": [
        {
          "output_type": "stream",
          "text": [
            "3\n",
            "4\n",
            "3.7\n"
          ],
          "name": "stdout"
        }
      ]
    },
    {
      "cell_type": "code",
      "metadata": {
        "id": "xxNzBNEVraPl",
        "colab_type": "code",
        "colab": {
          "base_uri": "https://localhost:8080/",
          "height": 51
        },
        "outputId": "7edc876e-4435-400e-9939-73ef4a50752a"
      },
      "source": [
        "#절대값\n",
        "print(abs(3))\n",
        "print(abs(-3))"
      ],
      "execution_count": null,
      "outputs": [
        {
          "output_type": "stream",
          "text": [
            "3\n",
            "3\n"
          ],
          "name": "stdout"
        }
      ]
    },
    {
      "cell_type": "code",
      "metadata": {
        "id": "Mnu9LkLSrgHi",
        "colab_type": "code",
        "colab": {
          "base_uri": "https://localhost:8080/",
          "height": 51
        },
        "outputId": "5509f59d-3e13-4c96-8c88-fc778757dfde"
      },
      "source": [
        "#제곱\n",
        "print(pow(3,2))\n",
        "print(3**2)"
      ],
      "execution_count": null,
      "outputs": [
        {
          "output_type": "stream",
          "text": [
            "9\n",
            "9\n"
          ],
          "name": "stdout"
        }
      ]
    },
    {
      "cell_type": "code",
      "metadata": {
        "id": "5CEooaAar9bq",
        "colab_type": "code",
        "colab": {
          "base_uri": "https://localhost:8080/",
          "height": 51
        },
        "outputId": "c682aa70-fc69-4c93-8be9-8c579ea12ac0"
      },
      "source": [
        "#나눗셈\n",
        "x,y = divmod(7,2)\n",
        "print(x) # 몫\n",
        "print(y)  # 나머지"
      ],
      "execution_count": null,
      "outputs": [
        {
          "output_type": "stream",
          "text": [
            "3\n",
            "1\n"
          ],
          "name": "stdout"
        }
      ]
    },
    {
      "cell_type": "code",
      "metadata": {
        "id": "xBgb7l4vsXga",
        "colab_type": "code",
        "colab": {
          "base_uri": "https://localhost:8080/",
          "height": 34
        },
        "outputId": "cafbc86d-dbcb-411f-d228-ba61a93f6303"
      },
      "source": [
        "# 합\n",
        "print(sum([2,4,5,7,19]))"
      ],
      "execution_count": null,
      "outputs": [
        {
          "output_type": "stream",
          "text": [
            "37\n"
          ],
          "name": "stdout"
        }
      ]
    },
    {
      "cell_type": "markdown",
      "metadata": {
        "id": "5Exdxz267RyL",
        "colab_type": "text"
      },
      "source": [
        "# 최소, 최대 값 구하기"
      ]
    },
    {
      "cell_type": "code",
      "metadata": {
        "id": "OmdPEXAhsHm8",
        "colab_type": "code",
        "colab": {
          "base_uri": "https://localhost:8080/",
          "height": 51
        },
        "outputId": "7fd73932-6c94-4bfa-b9a5-4b273d38ac62"
      },
      "source": [
        "#최소. 최대값\n",
        "print(max(2,4,5,7,19))\n",
        "print(min([2,4,5,7,19])) # [] 사용 가능"
      ],
      "execution_count": null,
      "outputs": [
        {
          "output_type": "stream",
          "text": [
            "19\n",
            "2\n"
          ],
          "name": "stdout"
        }
      ]
    },
    {
      "cell_type": "code",
      "metadata": {
        "id": "NyFqSKEW7bVz",
        "colab_type": "code",
        "colab": {
          "base_uri": "https://localhost:8080/",
          "height": 51
        },
        "outputId": "125acd62-ba95-4cb4-b725-c9a9337cfab1"
      },
      "source": [
        "# 숫자 리스트를 입력 받아 최소값 구하기\n",
        "\n",
        "li = list(map(int,input('숫자 입력:').split()))\n",
        "# print(min(li))\n",
        "\n",
        "m=li[0]\n",
        "for i in li:\n",
        "  if i<m:\n",
        "    m=i\n",
        "print(m)"
      ],
      "execution_count": 17,
      "outputs": [
        {
          "output_type": "stream",
          "text": [
            "숫자 입력:56 3 89 980 45\n",
            "3\n"
          ],
          "name": "stdout"
        }
      ]
    },
    {
      "cell_type": "code",
      "metadata": {
        "id": "JADzAVrJ9IZa",
        "colab_type": "code",
        "colab": {
          "base_uri": "https://localhost:8080/",
          "height": 51
        },
        "outputId": "4b2df27d-9fdc-47da-f579-fbff09a74e7a"
      },
      "source": [
        "# 숫자 리스트를 입력 받아 최대값 구하기\n",
        "\n",
        "li = list(map(int,input('숫자 입력:').split()))\n",
        "# print(min(li))\n",
        "\n",
        "m=li[0]\n",
        "for i in li:\n",
        "  if i>m:\n",
        "    m=i\n",
        "print(m)"
      ],
      "execution_count": 1,
      "outputs": [
        {
          "output_type": "stream",
          "text": [
            "숫자 입력:678 39292 2222222 56 4 3335\n",
            "2222222\n"
          ],
          "name": "stdout"
        }
      ]
    },
    {
      "cell_type": "markdown",
      "metadata": {
        "id": "6nI7ZDcL_4QR",
        "colab_type": "text"
      },
      "source": [
        "# 선형 탐색/ 이진 탐색"
      ]
    },
    {
      "cell_type": "code",
      "metadata": {
        "id": "Q96MHOx9_76J",
        "colab_type": "code",
        "colab": {
          "base_uri": "https://localhost:8080/",
          "height": 51
        },
        "outputId": "6e12720a-dfd2-4fac-9336-4b30828560e3"
      },
      "source": [
        "#선형 탐색\n",
        "#리스트 안에 있는 임의 수를 입력받아 리스트 상에서 인덱스 값을 알아내기\n",
        "\n",
        "li= [1,6,4,2,3,10,8,7,5,9]\n",
        "n= int(input('n:'))\n",
        "\n",
        "for i in range(len(li)):\n",
        "  if li[i]==n:\n",
        "    print(n,'의 index:',i)\n",
        "    break"
      ],
      "execution_count": 5,
      "outputs": [
        {
          "output_type": "stream",
          "text": [
            "n:3\n",
            "3 의 index: 4\n"
          ],
          "name": "stdout"
        }
      ]
    },
    {
      "cell_type": "markdown",
      "metadata": {
        "id": "SxOw2p5gHxvR",
        "colab_type": "text"
      },
      "source": [
        "이진 탐색\n",
        "\n",
        "선행 조건: 리스트 안에 숫자들이 정렬되어 있어야 한다.\n",
        "\n",
        "선형 탐색 비교: 범위를 좁혀서 탐색 하기 때문에 많은 숫자를 처리하 경우 속도 차이가 있다"
      ]
    },
    {
      "cell_type": "code",
      "metadata": {
        "id": "DoFR2O-qhG_r",
        "colab_type": "code",
        "colab": {
          "base_uri": "https://localhost:8080/",
          "height": 102
        },
        "outputId": "0ada999d-9647-4cf0-9cd5-194fc2721d24"
      },
      "source": [
        "li=[1,3,5,6,8,9,13,15,17,19]\n",
        "\n",
        "n=int(input('1,3,5,6,8,9,13,15,17,19:'))\n",
        "\n",
        "s_index=0\n",
        "e_index=len(li)-1\n",
        "\n",
        "while s_index<=e_index:\n",
        "  m_index=(s_index+e_index)//2\n",
        "  \n",
        "  print(s_index, m_index, e_index)\n",
        "\n",
        "  if n>li[m_index]:\n",
        "    s_index = m_index+1\n",
        "\n",
        "  elif n<li[m_index]:\n",
        "    e_index=m_index-1\n",
        "\n",
        "  else:\n",
        "    print(m_index)\n",
        "\n",
        "    break"
      ],
      "execution_count": 7,
      "outputs": [
        {
          "output_type": "stream",
          "text": [
            "1,3,5,6,8,9,13,15,17,19:5\n",
            "0 4 9\n",
            "0 1 3\n",
            "2 2 3\n",
            "2\n"
          ],
          "name": "stdout"
        }
      ]
    },
    {
      "cell_type": "markdown",
      "metadata": {
        "id": "sa1h-Y9fHN0t",
        "colab_type": "text"
      },
      "source": [
        "# 정렬\n",
        "\n",
        "선택 정렬"
      ]
    },
    {
      "cell_type": "code",
      "metadata": {
        "id": "tjE9GBwwHSXD",
        "colab_type": "code",
        "colab": {
          "base_uri": "https://localhost:8080/",
          "height": 221
        },
        "outputId": "525c2b44-e182-4dd7-8a33-ea86659d6dcd"
      },
      "source": [
        "li=[8,6,4,1,2,3,5,10,9,7]\n",
        "\n",
        "for i in range(len(li)):\n",
        "  print(li)\n",
        "  min_idx=i\n",
        "  for j in range(i,len(li)):\n",
        "    if li[j]<li[min_idx]:\n",
        "      min_idx=j\n",
        "  li[i],li[min_idx]=li[min_idx],li[i]\n",
        "\n",
        "print('최종결과')\n",
        "print(li)"
      ],
      "execution_count": 5,
      "outputs": [
        {
          "output_type": "stream",
          "text": [
            "[8, 6, 4, 1, 2, 3, 5, 10, 9, 7]\n",
            "[1, 6, 4, 8, 2, 3, 5, 10, 9, 7]\n",
            "[1, 2, 4, 8, 6, 3, 5, 10, 9, 7]\n",
            "[1, 2, 3, 8, 6, 4, 5, 10, 9, 7]\n",
            "[1, 2, 3, 4, 6, 8, 5, 10, 9, 7]\n",
            "[1, 2, 3, 4, 5, 8, 6, 10, 9, 7]\n",
            "[1, 2, 3, 4, 5, 6, 8, 10, 9, 7]\n",
            "[1, 2, 3, 4, 5, 6, 7, 10, 9, 8]\n",
            "[1, 2, 3, 4, 5, 6, 7, 8, 9, 10]\n",
            "[1, 2, 3, 4, 5, 6, 7, 8, 9, 10]\n",
            "최종결과\n",
            "[1, 2, 3, 4, 5, 6, 7, 8, 9, 10]\n"
          ],
          "name": "stdout"
        }
      ]
    },
    {
      "cell_type": "markdown",
      "metadata": {
        "id": "DEW92UcEiIW4",
        "colab_type": "text"
      },
      "source": [
        "버블 정렬 (선택 정렬 역순으로 처리)"
      ]
    },
    {
      "cell_type": "code",
      "metadata": {
        "id": "5MSgb4Tfh4O1",
        "colab_type": "code",
        "colab": {
          "base_uri": "https://localhost:8080/",
          "height": 221
        },
        "outputId": "34f67002-13de-48c4-88a4-27ad5e311b4d"
      },
      "source": [
        "li=[8,6,4,1,2,3,5,10,9,7]\n",
        "\n",
        "for i in range(len(li)):\n",
        "  print(li)\n",
        "  for j in range(len(li)-i-1):\n",
        "    if li[j]>li[j+1]:\n",
        "     li[j],li[j+1] = li[j+1], li[j]\n",
        "\n",
        "print('최종결과')\n",
        "print(li)     "
      ],
      "execution_count": 9,
      "outputs": [
        {
          "output_type": "stream",
          "text": [
            "[8, 6, 4, 1, 2, 3, 5, 10, 9, 7]\n",
            "[6, 4, 1, 2, 3, 5, 8, 9, 7, 10]\n",
            "[4, 1, 2, 3, 5, 6, 8, 7, 9, 10]\n",
            "[1, 2, 3, 4, 5, 6, 7, 8, 9, 10]\n",
            "[1, 2, 3, 4, 5, 6, 7, 8, 9, 10]\n",
            "[1, 2, 3, 4, 5, 6, 7, 8, 9, 10]\n",
            "[1, 2, 3, 4, 5, 6, 7, 8, 9, 10]\n",
            "[1, 2, 3, 4, 5, 6, 7, 8, 9, 10]\n",
            "[1, 2, 3, 4, 5, 6, 7, 8, 9, 10]\n",
            "[1, 2, 3, 4, 5, 6, 7, 8, 9, 10]\n",
            "최종결과\n",
            "[1, 2, 3, 4, 5, 6, 7, 8, 9, 10]\n"
          ],
          "name": "stdout"
        }
      ]
    }
  ]
}