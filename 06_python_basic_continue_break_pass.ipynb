{
  "nbformat": 4,
  "nbformat_minor": 0,
  "metadata": {
    "colab": {
      "name": "06-python-basic-continue break pass.ipynb",
      "provenance": [],
      "collapsed_sections": [],
      "authorship_tag": "ABX9TyOqJj6xCfwOqkm4ye7zhVwl"
    },
    "kernelspec": {
      "name": "python3",
      "display_name": "Python 3"
    }
  },
  "cells": [
    {
      "cell_type": "code",
      "metadata": {
        "id": "v0aUObn6L0V4",
        "colab_type": "code",
        "colab": {
          "base_uri": "https://localhost:8080/",
          "height": 170
        },
        "outputId": "119caac9-b834-4800-c7c2-c00a8c461e63"
      },
      "source": [
        "#continue 해당 단곌르 건너뛰고 다음 단계로 간다\n",
        "\n",
        "for i in range(1,11):\n",
        "  if i==5:\n",
        "   continue\n",
        "  print(i)"
      ],
      "execution_count": null,
      "outputs": [
        {
          "output_type": "stream",
          "text": [
            "1\n",
            "2\n",
            "3\n",
            "4\n",
            "6\n",
            "7\n",
            "8\n",
            "9\n",
            "10\n"
          ],
          "name": "stdout"
        }
      ]
    },
    {
      "cell_type": "code",
      "metadata": {
        "id": "xpXF3of9ZuPn",
        "colab_type": "code",
        "colab": {
          "base_uri": "https://localhost:8080/",
          "height": 85
        },
        "outputId": "d393e427-5db2-4cfe-89eb-fce9115a114e"
      },
      "source": [
        "#break 제어문을 중단하고 빠져 나온다\n",
        "for i in range(1,11):\n",
        "  if i==5:\n",
        "   break\n",
        "  print(i)"
      ],
      "execution_count": null,
      "outputs": [
        {
          "output_type": "stream",
          "text": [
            "1\n",
            "2\n",
            "3\n",
            "4\n"
          ],
          "name": "stdout"
        }
      ]
    },
    {
      "cell_type": "code",
      "metadata": {
        "id": "iZy9W5shaaD-",
        "colab_type": "code",
        "colab": {
          "base_uri": "https://localhost:8080/",
          "height": 187
        },
        "outputId": "f8c303db-10db-48e8-8c40-6bf71fa42873"
      },
      "source": [
        "#pass 아무 작업도 하지 않는다\n",
        "#pass를 사용하는 이유는 무엇? 코드를 쓸때 큰틀을 잡고 일단 넘어가고 싶을 때 pass를 써놓고 다른 작업을 먼저 할 수 있다.\n",
        "for i in range(1,11):\n",
        "  if i==5:\n",
        "   pass \n",
        "  print(i)"
      ],
      "execution_count": null,
      "outputs": [
        {
          "output_type": "stream",
          "text": [
            "1\n",
            "2\n",
            "3\n",
            "4\n",
            "5\n",
            "6\n",
            "7\n",
            "8\n",
            "9\n",
            "10\n"
          ],
          "name": "stdout"
        }
      ]
    },
    {
      "cell_type": "code",
      "metadata": {
        "id": "kmbPbDUkaeNX",
        "colab_type": "code",
        "colab": {}
      },
      "source": [
        ""
      ],
      "execution_count": null,
      "outputs": []
    }
  ]
}