{
  "nbformat": 4,
  "nbformat_minor": 0,
  "metadata": {
    "colab": {
      "name": "03-python-basic-if.ipynb",
      "provenance": [],
      "collapsed_sections": [],
      "authorship_tag": "ABX9TyMdh53N5oZNuX99NZ5af0Qb",
      "include_colab_link": true
    },
    "kernelspec": {
      "name": "python3",
      "display_name": "Python 3"
    }
  },
  "cells": [
    {
      "cell_type": "markdown",
      "metadata": {
        "id": "view-in-github",
        "colab_type": "text"
      },
      "source": [
        "<a href=\"https://colab.research.google.com/github/minibe0/python-basic/blob/master/03_python_basic_if.ipynb\" target=\"_parent\"><img src=\"https://colab.research.google.com/assets/colab-badge.svg\" alt=\"Open In Colab\"/></a>"
      ]
    },
    {
      "cell_type": "code",
      "metadata": {
        "id": "UhIsDxlHk0Ny",
        "colab_type": "code",
        "colab": {
          "base_uri": "https://localhost:8080/",
          "height": 51
        },
        "outputId": "6c476741-6498-4c70-c048-56569bfed27c"
      },
      "source": [
        "#if else\n",
        "num = int(input('숫자를 입력해주세요:'))\n",
        "\n",
        "if num > 0:\n",
        "  print('{}은 양수 입니다.'.format(num))\n",
        "\n",
        "else:\n",
        "  print('{}은 음수 입니다.'.format(num))\n"
      ],
      "execution_count": null,
      "outputs": [
        {
          "output_type": "stream",
          "text": [
            "숫자를 입력해주세요:-5\n",
            "-5은 음수 입니다.\n"
          ],
          "name": "stdout"
        }
      ]
    },
    {
      "cell_type": "code",
      "metadata": {
        "colab_type": "code",
        "id": "k_NXXmM5vs0I",
        "colab": {
          "base_uri": "https://localhost:8080/",
          "height": 51
        },
        "outputId": "09195cb2-4c3b-4021-8e0c-1a7af5a9259a"
      },
      "source": [
        "\n",
        "num = int(input('숫자를 입력해주세요:'))\n",
        "\n",
        "if num%2==0:\n",
        "  print('{}은 짝수입니다.'.format(num))\n",
        "\n",
        "else:\n",
        "  print('{}은 홀수 입니다.'.format(num))\n"
      ],
      "execution_count": null,
      "outputs": [
        {
          "output_type": "stream",
          "text": [
            "숫자를 입력해주세요:8\n",
            "8은 짝수입니다.\n"
          ],
          "name": "stdout"
        }
      ]
    },
    {
      "cell_type": "code",
      "metadata": {
        "colab_type": "code",
        "id": "yEskDQ6FvQIa",
        "colab": {
          "base_uri": "https://localhost:8080/",
          "height": 51
        },
        "outputId": "e29d96ab-9226-4be6-d240-752e60a8bc76"
      },
      "source": [
        "num = int(input('숫자를 입력해주세요:'))\n",
        "\n",
        "if num > 0:\n",
        "  print('{}은 양수 입니다.'.format(num))\n",
        "\n",
        "elif num<0:\n",
        "  \n",
        "  print('{}은 음수 입니다.'.format(num))\n"
      ],
      "execution_count": null,
      "outputs": [
        {
          "output_type": "stream",
          "text": [
            "숫자를 입력해주세요:-3\n",
            "-3은 음수 입니다.\n"
          ],
          "name": "stdout"
        }
      ]
    },
    {
      "cell_type": "code",
      "metadata": {
        "colab_type": "code",
        "id": "yTKxe3tLwA9Q",
        "colab": {
          "base_uri": "https://localhost:8080/",
          "height": 51
        },
        "outputId": "ae72ff8d-acad-47b6-9f30-1b2e94b723a4"
      },
      "source": [
        "#if elif\n",
        "age = int(input('당신의 나이를 입력하세요:'))\n",
        "\n",
        "# 한 번이라도 참이 나오면 멈춘다.\n",
        "if age <= 7:\n",
        "  print('유아입니다.')\n",
        "\n",
        "elif age>13 and age<=19:\n",
        "  print('청소년입니다.')\n",
        "\n",
        "elif age<=13 and age>7:\n",
        "  print('어린이입니다.')\n",
        "\n",
        "elif age>19:\n",
        "  print('성인입니다.')\n"
      ],
      "execution_count": null,
      "outputs": [
        {
          "output_type": "stream",
          "text": [
            "나이 입력:20\n",
            "성인입니다.\n"
          ],
          "name": "stdout"
        }
      ]
    },
    {
      "cell_type": "code",
      "metadata": {
        "id": "mfZw7p_ayH2B",
        "colab_type": "code",
        "colab": {
          "base_uri": "https://localhost:8080/",
          "height": 51
        },
        "outputId": "00c9361c-9789-4850-ef3f-ed71d4e8f78d"
      },
      "source": [
        "txt = input('알파벳을 입력하세요:')\n",
        "\n",
        "if txt.isupper():\n",
        "  print('대문자')\n",
        "\n",
        "elif txt.islower():\n",
        "  print('소문자')\n",
        "\n",
        "else:\n",
        "  print('입력 오류 입니다, 다시 확인하고 입력하세요.')"
      ],
      "execution_count": null,
      "outputs": [
        {
          "output_type": "stream",
          "text": [
            "알파벳을 입력하세요:Abc\n",
            "입력 오류 입니다, 다시 확인하고 입력하세요.\n"
          ],
          "name": "stdout"
        }
      ]
    }
  ]
}